{
 "cells": [
  {
   "cell_type": "markdown",
   "id": "2e83feda-3de1-4a8c-8281-be7d0160f4a8",
   "metadata": {},
   "source": [
    "# Data Science Tools and Ecosystem"
   ]
  },
  {
   "cell_type": "markdown",
   "id": "6acd1eed-0f2a-4deb-a75b-1447a5b27805",
   "metadata": {},
   "source": [
    "## Introduction\n",
    "In this notebook, Data Science Tools and Ecosystem are summarized.\n",
    "**Objectives:**\n",
    "- List popular languages for Data Science\n",
    "- List commonly used libraries in Data Science\n",
    "- Create a table of Data Science tools\n",
    "- Perform basic arithmetic operations"
   ]
  },
  {
   "cell_type": "markdown",
   "id": "d6487177-e66a-47df-be46-81cb2c4d3939",
   "metadata": {},
   "source": [
    "## Data Science Languages\n",
    "Some of the popular languages that Data Scientists use are:\n",
    "1. Python\n",
    "2. R\n",
    "3. SQL\n",
    "4. Julia\n",
    "5. Scala"
   ]
  },
  {
   "cell_type": "markdown",
   "id": "601d3f6b-2498-49b2-a783-faa5405ed05a",
   "metadata": {},
   "source": [
    "## Data Science Libraries\n",
    "Some of the commonly used libraries used by Data Scientists include:\n",
    "1. Pandas\n",
    "2. NumPy\n",
    "3. Matplotlib\n",
    "4. Scikit-learn\n",
    "5. TensorFlow"
   ]
  },
  {
   "cell_type": "markdown",
   "id": "cdf3466c-9a04-45c2-97ee-e8a767050d24",
   "metadata": {},
   "source": [
    "## Data Science Tools\n",
    "| Data Science Tools |\n",
    "|--------------------|\n",
    "| Jupyter            |\n",
    "| RStudio            |\n",
    "| Apache Spark       |"
   ]
  },
  {
   "cell_type": "markdown",
   "id": "756759d7-919b-4b5a-a5c2-bcca2fd6bb83",
   "metadata": {},
   "source": [
    "### Arithmetic Expressions\n",
    "Below are a few examples of evaluating arithmetic expressions in Python."
   ]
  },
  {
   "cell_type": "code",
   "execution_count": 7,
   "id": "4bc47b24-988b-4c3b-9b1e-5d88a2f307d8",
   "metadata": {},
   "outputs": [
    {
     "data": {
      "text/plain": [
       "17"
      ]
     },
     "execution_count": 7,
     "metadata": {},
     "output_type": "execute_result"
    }
   ],
   "source": [
    "# This is a simple arithmetic expression to multiply then add integers\n",
    "result = (3 * 4) + 5\n",
    "result"
   ]
  },
  {
   "cell_type": "code",
   "execution_count": 9,
   "id": "71587a7f-748a-4c7f-a2f7-9fdcacc838ed",
   "metadata": {},
   "outputs": [
    {
     "data": {
      "text/plain": [
       "3.3333333333333335"
      ]
     },
     "execution_count": 9,
     "metadata": {},
     "output_type": "execute_result"
    }
   ],
   "source": [
    "# This will convert 200 minutes to hours by dividing by 60\n",
    "minutes = 200\n",
    "hours = minutes / 60\n",
    "hours"
   ]
  },
  {
   "cell_type": "markdown",
   "id": "ffcf2b5c-59fb-4780-8faa-8b5fb5740c35",
   "metadata": {},
   "source": [
    "## Author\n",
    "Rupesh Bura"
   ]
  }
 ],
 "metadata": {
  "kernelspec": {
   "display_name": "Python 3 (ipykernel)",
   "language": "python",
   "name": "python3"
  },
  "language_info": {
   "codemirror_mode": {
    "name": "ipython",
    "version": 3
   },
   "file_extension": ".py",
   "mimetype": "text/x-python",
   "name": "python",
   "nbconvert_exporter": "python",
   "pygments_lexer": "ipython3",
   "version": "3.12.4"
  }
 },
 "nbformat": 4,
 "nbformat_minor": 5
}
